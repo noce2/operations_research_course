{
 "cells": [
  {
   "cell_type": "markdown",
   "metadata": {},
   "source": [
    "# Operations Research: Models & Applications"
   ]
  },
  {
   "cell_type": "markdown",
   "metadata": {},
   "source": [
    "## Simple LP Formulations\n",
    "\n",
    "### Problem 1 - Product Mix\n",
    "\n",
    "- Objective: Maximise revenue from items made. £700 for a desk and £900 for a table.\n",
    "- Decision variables - x1 (number of desks) & x2 (number of tables)\n",
    "- Constraint 1: 3600 wood units. Each desk needs 3 units and a table 5.\n",
    "- Constraint 2: 1600 labour hours available. Desk needs 1hr and Tables 2.\n",
    "- Constraint 3: 800 machine hours available. 50 mins for a desk and 20 for a table\n",
    "\n",
    "System of equations:\n",
    "\n",
    "```\n",
    "  max  700x1 + 900x2  \n",
    "  s.t.   3x1 +   5x2 <= 3600  \n",
    "          x1 +   2x2 <= 1600  \n",
    "        50x1 +  20x2 <= 48000  \n",
    "          x1         >= 0  \n",
    "                  x2 >= 0  \n",
    "```\n",
    "\n",
    "Transformed system of equations:\n",
    "\n",
    "```\n",
    "  min  -700x1 - 900x2  \n",
    "  s.t. -  3x1 -   5x2 >= -3600  \n",
    "       -   x1 -   2x2 >= -1600  \n",
    "       - 50x1 -  20x2 >= -48000  \n",
    "       -  x1          <=  0  \n",
    "              -    x2 <=  0  \n",
    "```"
   ]
  },
  {
   "cell_type": "markdown",
   "metadata": {},
   "source": []
  },
  {
   "cell_type": "code",
   "execution_count": null,
   "metadata": {},
   "outputs": [],
   "source": []
  }
 ],
 "metadata": {
  "interpreter": {
   "hash": "17b124750dc49425e30a839d250518b5528b5fe69dfe93bedb4bac1d4fb8cfa9"
  },
  "kernelspec": {
   "display_name": "Python 3.9.10 ('operations_research_course')",
   "language": "python",
   "name": "python3"
  },
  "language_info": {
   "codemirror_mode": {
    "name": "ipython",
    "version": 3
   },
   "file_extension": ".py",
   "mimetype": "text/x-python",
   "name": "python",
   "nbconvert_exporter": "python",
   "pygments_lexer": "ipython3",
   "version": "3.9.10"
  },
  "orig_nbformat": 4
 },
 "nbformat": 4,
 "nbformat_minor": 2
}
