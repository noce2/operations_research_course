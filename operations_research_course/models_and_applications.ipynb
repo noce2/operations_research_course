{
 "cells": [
  {
   "cell_type": "markdown",
   "metadata": {},
   "source": [
    "# Operations Research: Models & Applications"
   ]
  },
  {
   "cell_type": "markdown",
   "metadata": {},
   "source": [
    "## Simple LP Formulations\n",
    "\n",
    "### Problem 1 - Product Mix\n",
    "\n",
    "- Objective: Maximise revenue from items made. £700 for a desk and £900 for a table.\n",
    "- Decision variables - x1 (number of desks) & x2 (number of tables)\n",
    "- Constraint 1: 3600 wood units. Each desk needs 3 units and a table 5.\n",
    "- Constraint 2: 1600 labour hours available. Desk needs 1hr and Tables 2.\n",
    "- Constraint 3: 800 machine hours available. 50 mins for a desk and 20 for a table\n",
    "\n",
    "System of equations:\n",
    "\n",
    "```\n",
    "  max  700x1 + 900x2  \n",
    "  s.t.   3x1 +   5x2 <= 3600  \n",
    "          x1 +   2x2 <= 1600  \n",
    "        50x1 +  20x2 <= 48000  \n",
    "          x1         >= 0  \n",
    "                  x2 >= 0  \n",
    "```\n",
    "\n",
    "Transformed system of equations (to have only <= constraints and a minimisation objective): \n",
    "\n",
    "```\n",
    "  min  -700x1 - 900x2  \n",
    "  s.t. +  3x1 +   5x2 <= +3600  \n",
    "       +   x1 +   2x2 <= +1600  \n",
    "       + 50x1 +  20x2 <= +48000  \n",
    "          x1          >=  0  \n",
    "                   x2 >=  0  \n",
    "```"
   ]
  },
  {
   "cell_type": "markdown",
   "metadata": {},
   "source": [
    "Test one of the possible solvers."
   ]
  },
  {
   "cell_type": "code",
   "execution_count": 4,
   "metadata": {},
   "outputs": [
    {
     "name": "stdout",
     "output_type": "stream",
     "text": [
      "ssssssssssssssssssssssssssssssssssssssssssssssssssssssssssssssssssssssssssssssssssssssssssssssssssssssssssssssssssssssssssssssssssssssssssssssssssssssssssssssssssssssssssssssssssssssssssssssssssssssssssssssssssssssssssssssssssssssssssssssssssssssssssssssssssssssssssssssssssssssssssssssssssssssssssssssssssssssssssssssssssssssssssssssssssssssssssssssssssssssssssssssssssssssssssssssssssssssssssssssssssssssssssssssssssssssssssssssssssssssssssssssssssssssssssssssssssssssssssssssssssssssssssssssssssssssssssssssssssssssssssssssssssssssssssssssssssssssssssssssss\t Test that logic put in place for deprecation handling of indexs works\n",
      ".\t Testing 'indexs' param continues to work for LpVariable.dicts\n",
      "\t Testing 'indexs' param continues to work for LpVariable.matrix\n",
      ".\t Testing 'indices' argument works in LpVariable.dicts\n",
      "\t Testing 'indices' param continues to work for LpVariable.matrix\n",
      ".\t Testing invalid status\n",
      ".\t Testing continuous LP solution - export dict\n",
      ".\t Testing export dict for LP\n",
      ".\t Testing export dict MIP\n",
      ".\t Testing maximize continuous LP solution\n",
      ".\t Testing continuous LP solution - export JSON\n",
      ".\t Testing continuous LP solution - export solver dict\n",
      ".\t Testing continuous LP solution - export solver JSON\n",
      "..\t Testing reading MPS files - binary variable, no constraint names\n",
      ".\t Testing reading MPS files - integer variable\n",
      ".\t Testing reading MPS files - maximize\n",
      "..\t Testing invalid var names\n",
      ".\t Testing logPath argument\n",
      ".\t Testing makeDict general behavior\n",
      ".\t Testing makeDict default value behavior\n",
      ".\t Testing measuring optimization time\n",
      ".\t Testing the availability of the function pulpTestAll\n",
      ".\t Testing zero subtraction\n",
      ".\t Testing inconsistent lp solution\n",
      ".\t Testing continuous LP solution\n",
      ".\t Testing maximize continuous LP solution\n",
      ".\t Testing unbounded continuous LP solution\n",
      ".\t Testing Long Names\n",
      ".\t Testing repeated Names\n",
      ".\t Testing zero constraint\n",
      ".\t Testing zero objective\n",
      ".\t Testing LpVariable (not LpAffineExpression) objective\n",
      ".\t Testing Long lines in LP\n",
      ".\t Testing LpAffineExpression divide\n",
      ".\t Testing MIP solution\n",
      ".\t Testing MIP solution with floats in objective\n",
      ".\t Testing Initial value in MIP solution\n",
      ".\t Testing fixing value in MIP solution\n",
      ".\t Testing MIP relaxation\n",
      ".\t Testing feasibility problem (no objective)\n",
      ".\t Testing an infeasible problem\n",
      ".\t Testing an integer infeasible problem\n",
      ".\t Testing another integer infeasible problem\n",
      ".\t Testing column based modelling\n",
      "..\t Testing dual variables and slacks reporting\n",
      "...\t Testing fractional constraints\n",
      ".\t Testing elastic constraints (no change)\n",
      ".\t Testing elastic constraints (freebound)\n",
      ".\t Testing elastic constraints (penalty unchanged)\n",
      ".\t Testing elastic constraints (penalty unbounded)\n",
      ".\t Testing timeLimit argument\n",
      "...ssssssssssssssssssssssssssssssssssssssssssssssssssssssssssssssssssssssssssssssssssssssssssssssssssssssssssssssssssssssssssssssssssssssssssssssssssssssssssssssssssssssssssssssssssssssssssssssssssssssssssssssssssssssssssssssss\n",
      "----------------------------------------------------------------------\n",
      "Ran 840 tests in 11.012s\n",
      "\n",
      "OK (skipped=784)\n"
     ]
    }
   ],
   "source": [
    "! pulptest"
   ]
  },
  {
   "cell_type": "code",
   "execution_count": 5,
   "metadata": {},
   "outputs": [],
   "source": [
    "from scipy.optimize import linprog"
   ]
  },
  {
   "cell_type": "code",
   "execution_count": 17,
   "metadata": {},
   "outputs": [],
   "source": [
    "obj = [-700, -900]\n",
    "lhs_ineq = [\n",
    "    [3, 5],\n",
    "    [1, 2],\n",
    "    [50, 20]\n",
    "]\n",
    "rhs_ineq = [\n",
    "    3600,\n",
    "    1600,\n",
    "    48000\n",
    "]\n",
    "bnd = [\n",
    "    (0, float(\"inf\")),  # Bounds of x1\n",
    "    (0, float(\"inf\"))]  # Bounds of x2\n"
   ]
  },
  {
   "cell_type": "code",
   "execution_count": 20,
   "metadata": {},
   "outputs": [
    {
     "data": {
      "text/plain": [
       "     con: array([], dtype=float64)\n",
       "     fun: -789473.6842105263\n",
       " message: 'Optimization terminated successfully.'\n",
       "     nit: 2\n",
       "   slack: array([  0.        , 336.84210526,   0.        ])\n",
       "  status: 0\n",
       " success: True\n",
       "       x: array([884.21052632, 189.47368421])"
      ]
     },
     "execution_count": 20,
     "metadata": {},
     "output_type": "execute_result"
    }
   ],
   "source": [
    "opt = linprog(\n",
    "    c=obj, A_ub=lhs_ineq, b_ub=rhs_ineq,\n",
    "    # A_eq=lhs_eq, b_eq=rhs_eq, \n",
    "    bounds=bnd,\n",
    "    method=\"revised simplex\")\n",
    "\n",
    "opt"
   ]
  },
  {
   "cell_type": "markdown",
   "metadata": {},
   "source": [
    "From the output, of `opt.x` for x1 = 884.2 and x2 = 189.4, we have an optimum of £789,473. These figures could be rounded down and used as a starting point."
   ]
  }
 ],
 "metadata": {
  "interpreter": {
   "hash": "17b124750dc49425e30a839d250518b5528b5fe69dfe93bedb4bac1d4fb8cfa9"
  },
  "kernelspec": {
   "display_name": "Python 3.9.10 ('operations_research_course')",
   "language": "python",
   "name": "python3"
  },
  "language_info": {
   "codemirror_mode": {
    "name": "ipython",
    "version": 3
   },
   "file_extension": ".py",
   "mimetype": "text/x-python",
   "name": "python",
   "nbconvert_exporter": "python",
   "pygments_lexer": "ipython3",
   "version": "3.9.10"
  },
  "orig_nbformat": 4
 },
 "nbformat": 4,
 "nbformat_minor": 2
}
